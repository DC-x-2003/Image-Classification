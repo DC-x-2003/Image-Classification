{
  "nbformat": 4,
  "nbformat_minor": 0,
  "metadata": {
    "colab": {
      "provenance": [],
      "include_colab_link": true
    },
    "kernelspec": {
      "name": "python3",
      "display_name": "Python 3"
    },
    "language_info": {
      "name": "python"
    }
  },
  "cells": [
    {
      "cell_type": "markdown",
      "metadata": {
        "id": "view-in-github",
        "colab_type": "text"
      },
      "source": [
        "<a href=\"https://colab.research.google.com/github/Parth-Ach2002/Image-Classification/blob/main/final.ipynb\" target=\"_parent\"><img src=\"https://colab.research.google.com/assets/colab-badge.svg\" alt=\"Open In Colab\"/></a>"
      ]
    },
    {
      "cell_type": "markdown",
      "source": [
        "**Importing the necessary libraries**"
      ],
      "metadata": {
        "id": "Phk2LdADSdxS"
      }
    },
    {
      "cell_type": "code",
      "source": [
        "import tensorflow as tf\n",
        "import keras\n",
        "from tensorflow.keras.layers import Input, Lambda, Dense, Flatten,Dropout\n",
        "from tensorflow.keras.models import Model\n",
        "from tensorflow.keras import layers, models\n",
        "from tensorflow.keras.preprocessing import image\n",
        "from tensorflow.keras.preprocessing.image import ImageDataGenerator\n",
        "from tensorflow.keras.models import Sequential\n",
        "import numpy as np\n",
        "import pandas as pd\n",
        "import os\n",
        "import cv2\n",
        "import matplotlib.pyplot as plt"
      ],
      "metadata": {
        "id": "Cvw4YTAFSkuw"
      },
      "execution_count": null,
      "outputs": []
    },
    {
      "cell_type": "markdown",
      "source": [
        "**Connecting google drive with our file in order to access the contents of the dataset**"
      ],
      "metadata": {
        "id": "8FkIDfYBSryD"
      }
    },
    {
      "cell_type": "code",
      "source": [
        "# Mounting the Data from Drive\n",
        "from google.colab import drive\n",
        "drive.mount('/content/drive')"
      ],
      "metadata": {
        "id": "npNpjk2KTJtK",
        "outputId": "e3d8bdef-36b6-47fb-b462-6daeb6cbe296",
        "colab": {
          "base_uri": "https://localhost:8080/"
        }
      },
      "execution_count": null,
      "outputs": [
        {
          "output_type": "stream",
          "name": "stdout",
          "text": [
            "Mounted at /content/drive\n"
          ]
        }
      ]
    },
    {
      "cell_type": "markdown",
      "source": [
        "**Setting the path for all the datasets**"
      ],
      "metadata": {
        "id": "3VEG0JMgNa98"
      }
    },
    {
      "cell_type": "code",
      "source": [
        "# Set path for all three datasets\n",
        "train_path=\"/content/drive/MyDrive/Image Classification Dataset/Train\"\n",
        "test_path=\"/content/drive/MyDrive/Image Classification Dataset/Test\"\n",
        "val_path=\"/content/drive/MyDrive/Image Classification Dataset/Validation\""
      ],
      "metadata": {
        "id": "ZRGbgodUNhoI"
      },
      "execution_count": null,
      "outputs": []
    },
    {
      "cell_type": "markdown",
      "source": [
        "**Generating image data along with few transformations**"
      ],
      "metadata": {
        "id": "Fw1h8Jt3OFJa"
      }
    },
    {
      "cell_type": "code",
      "source": [
        "train_datagen = ImageDataGenerator(rescale = 1./255, rotation_range=30, width_shift_range=10.0, height_shift_range=10.0, shear_range=10,\n",
        "                                   zoom_range=0.1,\n",
        "                                   vertical_flip=True)\n",
        "test_datagen = ImageDataGenerator(rescale = 1./255)\n",
        "val_datagen = ImageDataGenerator(rescale = 1./255)"
      ],
      "metadata": {
        "id": "E0R5oy5_OtLT"
      },
      "execution_count": null,
      "outputs": []
    },
    {
      "cell_type": "code",
      "source": [
        "training_set = train_datagen.flow_from_directory(train_path,\n",
        "                                                 target_size = (224, 224),\n",
        "                                                 batch_size = 16\n",
        "                                                )\n",
        "test_set = test_datagen.flow_from_directory(test_path,\n",
        "                                            target_size = (224, 224),\n",
        "                                            batch_size = 16\n",
        "                                            )\n",
        "\n",
        "val_set = val_datagen.flow_from_directory(val_path,\n",
        "                                            target_size = (224, 224),\n",
        "                                            batch_size = 16\n",
        "\n",
        "                                          )"
      ],
      "metadata": {
        "colab": {
          "base_uri": "https://localhost:8080/"
        },
        "id": "hfX3noJLPhIG",
        "outputId": "4d937fbc-1f36-489f-8f45-8aee48e99e86"
      },
      "execution_count": null,
      "outputs": [
        {
          "output_type": "stream",
          "name": "stdout",
          "text": [
            "Found 210 images belonging to 3 classes.\n",
            "Found 60 images belonging to 3 classes.\n",
            "Found 30 images belonging to 3 classes.\n"
          ]
        }
      ]
    },
    {
      "cell_type": "markdown",
      "source": [
        "**Printing the class indices**"
      ],
      "metadata": {
        "id": "65S-39NTQ2ZG"
      }
    },
    {
      "cell_type": "code",
      "source": [
        "training_set.class_indices"
      ],
      "metadata": {
        "colab": {
          "base_uri": "https://localhost:8080/"
        },
        "id": "7nCDPdxwQ6-U",
        "outputId": "330e717d-63d1-4949-ecb7-cb83c863311d"
      },
      "execution_count": null,
      "outputs": [
        {
          "output_type": "execute_result",
          "data": {
            "text/plain": [
              "{'No Parking': 0, 'One Way': 1, 'Zebra Crossing': 2}"
            ]
          },
          "metadata": {},
          "execution_count": 6
        }
      ]
    },
    {
      "cell_type": "markdown",
      "source": [
        "**Installing Keras Tuner for hyperparameter optimization**"
      ],
      "metadata": {
        "id": "umWwqWPsRfNk"
      }
    },
    {
      "cell_type": "code",
      "source": [
        "pip install keras-tuner"
      ],
      "metadata": {
        "id": "BWzQdVhDRoiL",
        "outputId": "d47481c7-3514-4722-ef91-b5c43508f0db",
        "colab": {
          "base_uri": "https://localhost:8080/"
        }
      },
      "execution_count": null,
      "outputs": [
        {
          "output_type": "stream",
          "name": "stdout",
          "text": [
            "Collecting keras-tuner\n",
            "  Downloading keras_tuner-1.3.5-py3-none-any.whl (176 kB)\n",
            "\u001b[2K     \u001b[90m━━━━━━━━━━━━━━━━━━━━━━━━━━━━━━━━━━━━━━━\u001b[0m \u001b[32m176.1/176.1 kB\u001b[0m \u001b[31m2.0 MB/s\u001b[0m eta \u001b[36m0:00:00\u001b[0m\n",
            "\u001b[?25hRequirement already satisfied: packaging in /usr/local/lib/python3.10/dist-packages (from keras-tuner) (23.1)\n",
            "Requirement already satisfied: requests in /usr/local/lib/python3.10/dist-packages (from keras-tuner) (2.31.0)\n",
            "Collecting kt-legacy (from keras-tuner)\n",
            "  Downloading kt_legacy-1.0.5-py3-none-any.whl (9.6 kB)\n",
            "Requirement already satisfied: charset-normalizer<4,>=2 in /usr/local/lib/python3.10/dist-packages (from requests->keras-tuner) (3.2.0)\n",
            "Requirement already satisfied: idna<4,>=2.5 in /usr/local/lib/python3.10/dist-packages (from requests->keras-tuner) (3.4)\n",
            "Requirement already satisfied: urllib3<3,>=1.21.1 in /usr/local/lib/python3.10/dist-packages (from requests->keras-tuner) (2.0.4)\n",
            "Requirement already satisfied: certifi>=2017.4.17 in /usr/local/lib/python3.10/dist-packages (from requests->keras-tuner) (2023.7.22)\n",
            "Installing collected packages: kt-legacy, keras-tuner\n",
            "Successfully installed keras-tuner-1.3.5 kt-legacy-1.0.5\n"
          ]
        }
      ]
    },
    {
      "cell_type": "markdown",
      "source": [
        "**Creating the model architecture**"
      ],
      "metadata": {
        "id": "kc87zpWiSQ64"
      }
    },
    {
      "cell_type": "code",
      "source": [
        "def build_model(hp):\n",
        "    model = models.Sequential()\n",
        "    model.add(layers.Conv2D(hp.Int('conv1_units', min_value=32, max_value=256, step=32), (3, 3), activation='relu', input_shape=(224, 224, 3)))\n",
        "    model.add(layers.MaxPooling2D((2, 2)))\n",
        "    model.add(layers.Conv2D(hp.Int('conv2_units', min_value=32, max_value=128, step=32), (3, 3), activation='relu'))\n",
        "    model.add(layers.MaxPooling2D((2, 2)))\n",
        "    model.add(layers.Dropout(hp.Float('dropout1', min_value=0.2, max_value=0.5, step=0.1)))\n",
        "    model.add(layers.Conv2D(hp.Int('conv3_units', min_value=16, max_value=64, step=16), (3, 3), activation='relu'))\n",
        "    model.add(layers.MaxPooling2D((2, 2)))\n",
        "    model.add(layers.Flatten())\n",
        "    model.add(layers.Dense(hp.Int('dense1_units', min_value=32, max_value=128, step=32), activation='relu'))\n",
        "    model.add(layers.Dropout(hp.Float('dropout2', min_value=0.2, max_value=0.5, step=0.1)))\n",
        "    model.add(layers.Dense(hp.Int('dense2_units', min_value=16, max_value=64, step=16), activation='relu'))\n",
        "    model.add(layers.Dropout(hp.Float('dropout3', min_value=0.2, max_value=0.5, step=0.1)))\n",
        "    model.add(layers.Dense(3, activation='softmax'))\n",
        "\n",
        "    model.compile(optimizer='adam',\n",
        "                  loss='categorical_crossentropy',\n",
        "                  metrics=['accuracy'])\n",
        "\n",
        "    return model"
      ],
      "metadata": {
        "id": "MEm0N6qfSXRk"
      },
      "execution_count": null,
      "outputs": []
    },
    {
      "cell_type": "markdown",
      "source": [
        "**Importing RandomSearch from keras.tuners library**"
      ],
      "metadata": {
        "id": "iauoDh2VNGoS"
      }
    },
    {
      "cell_type": "code",
      "source": [
        "from kerastuner.tuners import RandomSearch"
      ],
      "metadata": {
        "colab": {
          "base_uri": "https://localhost:8080/"
        },
        "id": "AFx9LzWbfZDJ",
        "outputId": "4c50767b-e460-438f-cc6c-6ad11d541b03"
      },
      "execution_count": null,
      "outputs": [
        {
          "output_type": "stream",
          "name": "stderr",
          "text": [
            "<ipython-input-9-94471a811b41>:1: DeprecationWarning: `import kerastuner` is deprecated, please use `import keras_tuner`.\n",
            "  from kerastuner.tuners import RandomSearch\n"
          ]
        }
      ]
    },
    {
      "cell_type": "markdown",
      "source": [
        "**Perform Hyperparameter tuning**"
      ],
      "metadata": {
        "id": "8LhdRpfAgWlw"
      }
    },
    {
      "cell_type": "code",
      "source": [
        "tuner = RandomSearch(\n",
        "    build_model,\n",
        "    objective='val_accuracy',\n",
        "    max_trials=8,\n",
        "    directory='tuning_directory',\n",
        "    project_name='my_model'\n",
        ")"
      ],
      "metadata": {
        "id": "q-Lce-KofmVA"
      },
      "execution_count": null,
      "outputs": []
    },
    {
      "cell_type": "code",
      "source": [
        "tuner.search(training_set,\n",
        "             validation_data=val_set,\n",
        "             epochs=30,\n",
        "             batch_size=16)"
      ],
      "metadata": {
        "colab": {
          "base_uri": "https://localhost:8080/"
        },
        "id": "Hsu3hjAM4SAH",
        "outputId": "5eb8b092-3fb4-45e5-877f-b1f88f56187d"
      },
      "execution_count": null,
      "outputs": [
        {
          "output_type": "stream",
          "name": "stdout",
          "text": [
            "Trial 8 Complete [01h 05m 38s]\n",
            "val_accuracy: 0.800000011920929\n",
            "\n",
            "Best val_accuracy So Far: 0.9666666388511658\n",
            "Total elapsed time: 04h 04m 31s\n"
          ]
        }
      ]
    },
    {
      "cell_type": "markdown",
      "source": [
        "**Selecting the optimal parameters obtained through tuning**"
      ],
      "metadata": {
        "id": "iOnmykSWLjC7"
      }
    },
    {
      "cell_type": "code",
      "source": [
        "best_hp = tuner.get_best_hyperparameters()[0]\n",
        "final_model = build_model(best_hp)"
      ],
      "metadata": {
        "id": "qG0eciIepa7-"
      },
      "execution_count": null,
      "outputs": []
    },
    {
      "cell_type": "markdown",
      "source": [
        "**Fitting the model using train data and providing val_set for validation data**"
      ],
      "metadata": {
        "id": "e3saT8O7L1hu"
      }
    },
    {
      "cell_type": "code",
      "source": [
        "history = final_model.fit(training_set,\n",
        "                          validation_data=val_set,\n",
        "                          epochs=30,\n",
        "                          batch_size=16)"
      ],
      "metadata": {
        "colab": {
          "base_uri": "https://localhost:8080/"
        },
        "id": "4PkFCFRFxIZ8",
        "outputId": "42947f85-ce02-4237-a092-619d802af1f7"
      },
      "execution_count": null,
      "outputs": [
        {
          "output_type": "stream",
          "name": "stdout",
          "text": [
            "Epoch 1/30\n",
            "14/14 [==============================] - 68s 5s/step - loss: 0.1878 - accuracy: 0.9333 - val_loss: 0.2508 - val_accuracy: 0.8667\n",
            "Epoch 2/30\n",
            "14/14 [==============================] - 65s 4s/step - loss: 0.1285 - accuracy: 0.9667 - val_loss: 0.3004 - val_accuracy: 0.8667\n",
            "Epoch 3/30\n",
            "14/14 [==============================] - 65s 4s/step - loss: 0.1062 - accuracy: 0.9714 - val_loss: 0.3385 - val_accuracy: 0.8333\n",
            "Epoch 4/30\n",
            "14/14 [==============================] - 62s 4s/step - loss: 0.2190 - accuracy: 0.9524 - val_loss: 0.2415 - val_accuracy: 0.9000\n",
            "Epoch 5/30\n",
            "14/14 [==============================] - 86s 6s/step - loss: 0.2297 - accuracy: 0.9238 - val_loss: 0.2655 - val_accuracy: 0.8667\n",
            "Epoch 6/30\n",
            "14/14 [==============================] - 65s 5s/step - loss: 0.1514 - accuracy: 0.9381 - val_loss: 0.1097 - val_accuracy: 0.9333\n",
            "Epoch 7/30\n",
            "14/14 [==============================] - 67s 5s/step - loss: 0.1280 - accuracy: 0.9619 - val_loss: 0.1657 - val_accuracy: 0.9000\n",
            "Epoch 8/30\n",
            "14/14 [==============================] - 64s 5s/step - loss: 0.1175 - accuracy: 0.9714 - val_loss: 0.3395 - val_accuracy: 0.8333\n",
            "Epoch 9/30\n",
            "14/14 [==============================] - 63s 5s/step - loss: 0.1228 - accuracy: 0.9571 - val_loss: 0.2442 - val_accuracy: 0.9000\n",
            "Epoch 10/30\n",
            "14/14 [==============================] - 66s 5s/step - loss: 0.0955 - accuracy: 0.9667 - val_loss: 0.1183 - val_accuracy: 0.9333\n",
            "Epoch 11/30\n",
            "14/14 [==============================] - 68s 5s/step - loss: 0.0964 - accuracy: 0.9714 - val_loss: 0.5339 - val_accuracy: 0.9000\n",
            "Epoch 12/30\n",
            "14/14 [==============================] - 65s 5s/step - loss: 0.1780 - accuracy: 0.9476 - val_loss: 0.1979 - val_accuracy: 0.9000\n",
            "Epoch 13/30\n",
            "14/14 [==============================] - 65s 4s/step - loss: 0.1265 - accuracy: 0.9714 - val_loss: 0.1468 - val_accuracy: 0.9333\n",
            "Epoch 14/30\n",
            "14/14 [==============================] - 66s 5s/step - loss: 0.1201 - accuracy: 0.9619 - val_loss: 0.1697 - val_accuracy: 0.9667\n",
            "Epoch 15/30\n",
            "14/14 [==============================] - 64s 4s/step - loss: 0.1211 - accuracy: 0.9619 - val_loss: 0.1174 - val_accuracy: 0.9667\n",
            "Epoch 16/30\n",
            "14/14 [==============================] - 65s 5s/step - loss: 0.0380 - accuracy: 0.9952 - val_loss: 0.8553 - val_accuracy: 0.8333\n",
            "Epoch 17/30\n",
            "14/14 [==============================] - 64s 5s/step - loss: 0.1791 - accuracy: 0.9476 - val_loss: 0.2633 - val_accuracy: 0.8667\n",
            "Epoch 18/30\n",
            "14/14 [==============================] - 67s 5s/step - loss: 0.1499 - accuracy: 0.9429 - val_loss: 0.1917 - val_accuracy: 0.9333\n",
            "Epoch 19/30\n",
            "14/14 [==============================] - 63s 5s/step - loss: 0.1079 - accuracy: 0.9667 - val_loss: 0.1068 - val_accuracy: 0.9333\n",
            "Epoch 20/30\n",
            "14/14 [==============================] - 64s 5s/step - loss: 0.1365 - accuracy: 0.9381 - val_loss: 0.2159 - val_accuracy: 0.9000\n",
            "Epoch 21/30\n",
            "14/14 [==============================] - 65s 5s/step - loss: 0.0774 - accuracy: 0.9714 - val_loss: 0.1172 - val_accuracy: 0.9333\n",
            "Epoch 22/30\n",
            "14/14 [==============================] - 63s 4s/step - loss: 0.1320 - accuracy: 0.9524 - val_loss: 0.1384 - val_accuracy: 0.9667\n",
            "Epoch 23/30\n",
            "14/14 [==============================] - 64s 4s/step - loss: 0.0941 - accuracy: 0.9810 - val_loss: 0.0774 - val_accuracy: 0.9667\n",
            "Epoch 24/30\n",
            "14/14 [==============================] - 65s 5s/step - loss: 0.0732 - accuracy: 0.9714 - val_loss: 0.2230 - val_accuracy: 0.9667\n",
            "Epoch 25/30\n",
            "14/14 [==============================] - 65s 5s/step - loss: 0.0667 - accuracy: 0.9762 - val_loss: 0.0508 - val_accuracy: 0.9667\n",
            "Epoch 26/30\n",
            "14/14 [==============================] - 64s 4s/step - loss: 0.1171 - accuracy: 0.9429 - val_loss: 0.2790 - val_accuracy: 0.9333\n",
            "Epoch 27/30\n",
            "14/14 [==============================] - 64s 5s/step - loss: 0.0879 - accuracy: 0.9905 - val_loss: 0.0396 - val_accuracy: 1.0000\n",
            "Epoch 28/30\n",
            "14/14 [==============================] - 64s 5s/step - loss: 0.0470 - accuracy: 0.9905 - val_loss: 0.1577 - val_accuracy: 0.9333\n",
            "Epoch 29/30\n",
            "14/14 [==============================] - 66s 5s/step - loss: 0.0572 - accuracy: 0.9762 - val_loss: 0.0803 - val_accuracy: 0.9667\n",
            "Epoch 30/30\n",
            "14/14 [==============================] - 66s 5s/step - loss: 0.0720 - accuracy: 0.9619 - val_loss: 0.0414 - val_accuracy: 0.9667\n"
          ]
        }
      ]
    },
    {
      "cell_type": "markdown",
      "source": [
        "**Saving the model**"
      ],
      "metadata": {
        "id": "JcmD-vj2MJIo"
      }
    },
    {
      "cell_type": "code",
      "source": [
        "final_model.save('model.h5')"
      ],
      "metadata": {
        "id": "ehfsDuvr5qJL"
      },
      "execution_count": null,
      "outputs": []
    },
    {
      "cell_type": "markdown",
      "source": [
        "**Printing the accuracy of the model**"
      ],
      "metadata": {
        "id": "BvrCIsU8MTRv"
      }
    },
    {
      "cell_type": "code",
      "source": [
        "(loss, accuracy) = final_model.evaluate(test_set)\n",
        "print(loss)\n",
        "print(accuracy)"
      ],
      "metadata": {
        "colab": {
          "base_uri": "https://localhost:8080/"
        },
        "id": "RkAhKox35wdW",
        "outputId": "a2739547-0c7e-4f68-cce8-a6c9fee82f16"
      },
      "execution_count": null,
      "outputs": [
        {
          "output_type": "stream",
          "name": "stdout",
          "text": [
            "4/4 [==============================] - 4s 990ms/step - loss: 0.0640 - accuracy: 0.9833\n",
            "0.06399316340684891\n",
            "0.9833333492279053\n"
          ]
        }
      ]
    },
    {
      "cell_type": "markdown",
      "source": [
        "**Installing the gradio library**"
      ],
      "metadata": {
        "id": "JHJeE_syMbJ0"
      }
    },
    {
      "cell_type": "code",
      "source": [
        "pip install gradio"
      ],
      "metadata": {
        "id": "qRsrP9X89nsX",
        "outputId": "e486f6fd-505a-4234-e7eb-92b0b512ddd2",
        "colab": {
          "base_uri": "https://localhost:8080/"
        }
      },
      "execution_count": null,
      "outputs": [
        {
          "output_type": "stream",
          "name": "stdout",
          "text": [
            "Requirement already satisfied: gradio in /usr/local/lib/python3.10/dist-packages (3.44.3)\n",
            "Requirement already satisfied: aiofiles<24.0,>=22.0 in /usr/local/lib/python3.10/dist-packages (from gradio) (23.2.1)\n",
            "Requirement already satisfied: altair<6.0,>=4.2.0 in /usr/local/lib/python3.10/dist-packages (from gradio) (4.2.2)\n",
            "Requirement already satisfied: fastapi in /usr/local/lib/python3.10/dist-packages (from gradio) (0.103.1)\n",
            "Requirement already satisfied: ffmpy in /usr/local/lib/python3.10/dist-packages (from gradio) (0.3.1)\n",
            "Requirement already satisfied: gradio-client==0.5.0 in /usr/local/lib/python3.10/dist-packages (from gradio) (0.5.0)\n",
            "Requirement already satisfied: httpx in /usr/local/lib/python3.10/dist-packages (from gradio) (0.25.0)\n",
            "Requirement already satisfied: huggingface-hub>=0.14.0 in /usr/local/lib/python3.10/dist-packages (from gradio) (0.17.1)\n",
            "Requirement already satisfied: importlib-resources<7.0,>=1.3 in /usr/local/lib/python3.10/dist-packages (from gradio) (6.0.1)\n",
            "Requirement already satisfied: jinja2<4.0 in /usr/local/lib/python3.10/dist-packages (from gradio) (3.1.2)\n",
            "Requirement already satisfied: markupsafe~=2.0 in /usr/local/lib/python3.10/dist-packages (from gradio) (2.1.3)\n",
            "Requirement already satisfied: matplotlib~=3.0 in /usr/local/lib/python3.10/dist-packages (from gradio) (3.7.1)\n",
            "Requirement already satisfied: numpy~=1.0 in /usr/local/lib/python3.10/dist-packages (from gradio) (1.23.5)\n",
            "Requirement already satisfied: orjson~=3.0 in /usr/local/lib/python3.10/dist-packages (from gradio) (3.9.7)\n",
            "Requirement already satisfied: packaging in /usr/local/lib/python3.10/dist-packages (from gradio) (23.1)\n",
            "Requirement already satisfied: pandas<3.0,>=1.0 in /usr/local/lib/python3.10/dist-packages (from gradio) (1.5.3)\n",
            "Requirement already satisfied: pillow<11.0,>=8.0 in /usr/local/lib/python3.10/dist-packages (from gradio) (9.4.0)\n",
            "Requirement already satisfied: pydantic!=1.8,!=1.8.1,!=2.0.0,!=2.0.1,<3.0.0,>=1.7.4 in /usr/local/lib/python3.10/dist-packages (from gradio) (1.10.12)\n",
            "Requirement already satisfied: pydub in /usr/local/lib/python3.10/dist-packages (from gradio) (0.25.1)\n",
            "Requirement already satisfied: python-multipart in /usr/local/lib/python3.10/dist-packages (from gradio) (0.0.6)\n",
            "Requirement already satisfied: pyyaml<7.0,>=5.0 in /usr/local/lib/python3.10/dist-packages (from gradio) (6.0.1)\n",
            "Requirement already satisfied: requests~=2.0 in /usr/local/lib/python3.10/dist-packages (from gradio) (2.31.0)\n",
            "Requirement already satisfied: semantic-version~=2.0 in /usr/local/lib/python3.10/dist-packages (from gradio) (2.10.0)\n",
            "Requirement already satisfied: typing-extensions~=4.0 in /usr/local/lib/python3.10/dist-packages (from gradio) (4.5.0)\n",
            "Requirement already satisfied: uvicorn>=0.14.0 in /usr/local/lib/python3.10/dist-packages (from gradio) (0.23.2)\n",
            "Requirement already satisfied: websockets<12.0,>=10.0 in /usr/local/lib/python3.10/dist-packages (from gradio) (11.0.3)\n",
            "Requirement already satisfied: fsspec in /usr/local/lib/python3.10/dist-packages (from gradio-client==0.5.0->gradio) (2023.6.0)\n",
            "Requirement already satisfied: entrypoints in /usr/local/lib/python3.10/dist-packages (from altair<6.0,>=4.2.0->gradio) (0.4)\n",
            "Requirement already satisfied: jsonschema>=3.0 in /usr/local/lib/python3.10/dist-packages (from altair<6.0,>=4.2.0->gradio) (4.19.0)\n",
            "Requirement already satisfied: toolz in /usr/local/lib/python3.10/dist-packages (from altair<6.0,>=4.2.0->gradio) (0.12.0)\n",
            "Requirement already satisfied: filelock in /usr/local/lib/python3.10/dist-packages (from huggingface-hub>=0.14.0->gradio) (3.12.2)\n",
            "Requirement already satisfied: tqdm>=4.42.1 in /usr/local/lib/python3.10/dist-packages (from huggingface-hub>=0.14.0->gradio) (4.66.1)\n",
            "Requirement already satisfied: contourpy>=1.0.1 in /usr/local/lib/python3.10/dist-packages (from matplotlib~=3.0->gradio) (1.1.0)\n",
            "Requirement already satisfied: cycler>=0.10 in /usr/local/lib/python3.10/dist-packages (from matplotlib~=3.0->gradio) (0.11.0)\n",
            "Requirement already satisfied: fonttools>=4.22.0 in /usr/local/lib/python3.10/dist-packages (from matplotlib~=3.0->gradio) (4.42.1)\n",
            "Requirement already satisfied: kiwisolver>=1.0.1 in /usr/local/lib/python3.10/dist-packages (from matplotlib~=3.0->gradio) (1.4.5)\n",
            "Requirement already satisfied: pyparsing>=2.3.1 in /usr/local/lib/python3.10/dist-packages (from matplotlib~=3.0->gradio) (3.1.1)\n",
            "Requirement already satisfied: python-dateutil>=2.7 in /usr/local/lib/python3.10/dist-packages (from matplotlib~=3.0->gradio) (2.8.2)\n",
            "Requirement already satisfied: pytz>=2020.1 in /usr/local/lib/python3.10/dist-packages (from pandas<3.0,>=1.0->gradio) (2023.3.post1)\n",
            "Requirement already satisfied: charset-normalizer<4,>=2 in /usr/local/lib/python3.10/dist-packages (from requests~=2.0->gradio) (3.2.0)\n",
            "Requirement already satisfied: idna<4,>=2.5 in /usr/local/lib/python3.10/dist-packages (from requests~=2.0->gradio) (3.4)\n",
            "Requirement already satisfied: urllib3<3,>=1.21.1 in /usr/local/lib/python3.10/dist-packages (from requests~=2.0->gradio) (2.0.4)\n",
            "Requirement already satisfied: certifi>=2017.4.17 in /usr/local/lib/python3.10/dist-packages (from requests~=2.0->gradio) (2023.7.22)\n",
            "Requirement already satisfied: click>=7.0 in /usr/local/lib/python3.10/dist-packages (from uvicorn>=0.14.0->gradio) (8.1.7)\n",
            "Requirement already satisfied: h11>=0.8 in /usr/local/lib/python3.10/dist-packages (from uvicorn>=0.14.0->gradio) (0.14.0)\n",
            "Requirement already satisfied: anyio<4.0.0,>=3.7.1 in /usr/local/lib/python3.10/dist-packages (from fastapi->gradio) (3.7.1)\n",
            "Requirement already satisfied: starlette<0.28.0,>=0.27.0 in /usr/local/lib/python3.10/dist-packages (from fastapi->gradio) (0.27.0)\n",
            "Requirement already satisfied: httpcore<0.19.0,>=0.18.0 in /usr/local/lib/python3.10/dist-packages (from httpx->gradio) (0.18.0)\n",
            "Requirement already satisfied: sniffio in /usr/local/lib/python3.10/dist-packages (from httpx->gradio) (1.3.0)\n",
            "Requirement already satisfied: exceptiongroup in /usr/local/lib/python3.10/dist-packages (from anyio<4.0.0,>=3.7.1->fastapi->gradio) (1.1.3)\n",
            "Requirement already satisfied: attrs>=22.2.0 in /usr/local/lib/python3.10/dist-packages (from jsonschema>=3.0->altair<6.0,>=4.2.0->gradio) (23.1.0)\n",
            "Requirement already satisfied: jsonschema-specifications>=2023.03.6 in /usr/local/lib/python3.10/dist-packages (from jsonschema>=3.0->altair<6.0,>=4.2.0->gradio) (2023.7.1)\n",
            "Requirement already satisfied: referencing>=0.28.4 in /usr/local/lib/python3.10/dist-packages (from jsonschema>=3.0->altair<6.0,>=4.2.0->gradio) (0.30.2)\n",
            "Requirement already satisfied: rpds-py>=0.7.1 in /usr/local/lib/python3.10/dist-packages (from jsonschema>=3.0->altair<6.0,>=4.2.0->gradio) (0.10.2)\n",
            "Requirement already satisfied: six>=1.5 in /usr/local/lib/python3.10/dist-packages (from python-dateutil>=2.7->matplotlib~=3.0->gradio) (1.16.0)\n"
          ]
        }
      ]
    },
    {
      "cell_type": "markdown",
      "source": [
        "**Creating function to preprocess the input of gradio**"
      ],
      "metadata": {
        "id": "oo9gYy38Moau"
      }
    },
    {
      "cell_type": "code",
      "source": [
        "import gradio as gr\n",
        "from PIL import Image\n",
        "import numpy as np\n",
        "\n",
        "def predict_image(image):\n",
        "    # Preprocess the image (resize, normalize)\n",
        "    image = Image.fromarray(image)\n",
        "    image = image.resize((224, 224))\n",
        "    image = np.array(image) / 255.0\n",
        "\n",
        "    # Make predictions using the model\n",
        "    predictions = final_model.predict(np.expand_dims(image, axis=0))\n",
        "    predicted_class = class_names[np.argmax(predictions)]\n",
        "\n",
        "    return predicted_class"
      ],
      "metadata": {
        "id": "hoopqgOd9r3W"
      },
      "execution_count": null,
      "outputs": []
    },
    {
      "cell_type": "markdown",
      "source": [
        "**Creating the gradio Interface**"
      ],
      "metadata": {
        "id": "4Rwa-2yqMzwK"
      }
    },
    {
      "cell_type": "code",
      "source": [
        "image_input = gr.inputs.Image(shape=(224, 224))\n",
        "label_output = gr.outputs.Label()\n",
        "\n",
        "gr1=gr.Interface(fn=predict_image, inputs=image_input, outputs=label_output).launch(share=True)"
      ],
      "metadata": {
        "id": "JdZjiOnk90M8",
        "outputId": "a2399dd8-c30f-4f25-9f39-5c762b7a576b",
        "colab": {
          "base_uri": "https://localhost:8080/",
          "height": 758
        }
      },
      "execution_count": null,
      "outputs": [
        {
          "output_type": "stream",
          "name": "stderr",
          "text": [
            "<ipython-input-44-07dc849683ea>:1: GradioDeprecationWarning: Usage of gradio.inputs is deprecated, and will not be supported in the future, please import your component from gradio.components\n",
            "  image_input = gr.inputs.Image(shape=(224, 224))\n",
            "<ipython-input-44-07dc849683ea>:1: GradioDeprecationWarning: `optional` parameter is deprecated, and it has no effect\n",
            "  image_input = gr.inputs.Image(shape=(224, 224))\n",
            "<ipython-input-44-07dc849683ea>:2: GradioDeprecationWarning: Usage of gradio.outputs is deprecated, and will not be supported in the future, please import your components from gradio.components\n",
            "  label_output = gr.outputs.Label()\n",
            "<ipython-input-44-07dc849683ea>:2: GradioUnusedKwargWarning: You have unused kwarg parameters in Label, please remove them: {'type': 'auto'}\n",
            "  label_output = gr.outputs.Label()\n"
          ]
        },
        {
          "output_type": "stream",
          "name": "stdout",
          "text": [
            "Colab notebook detected. To show errors in colab notebook, set debug=True in launch()\n",
            "Running on public URL: https://f90e58808857b7cacd.gradio.live\n",
            "\n",
            "This share link expires in 72 hours. For free permanent hosting and GPU upgrades, run `gradio deploy` from Terminal to deploy to Spaces (https://huggingface.co/spaces)\n"
          ]
        },
        {
          "output_type": "display_data",
          "data": {
            "text/plain": [
              "<IPython.core.display.HTML object>"
            ],
            "text/html": [
              "<div><iframe src=\"https://f90e58808857b7cacd.gradio.live\" width=\"100%\" height=\"500\" allow=\"autoplay; camera; microphone; clipboard-read; clipboard-write;\" frameborder=\"0\" allowfullscreen></iframe></div>"
            ]
          },
          "metadata": {}
        }
      ]
    }
  ]
}
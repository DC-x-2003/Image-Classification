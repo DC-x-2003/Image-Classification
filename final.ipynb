{
  "nbformat": 4,
  "nbformat_minor": 0,
  "metadata": {
    "colab": {
      "provenance": [],
      "include_colab_link": true
    },
    "kernelspec": {
      "name": "python3",
      "display_name": "Python 3"
    },
    "language_info": {
      "name": "python"
    }
  },
  "cells": [
    {
      "cell_type": "markdown",
      "metadata": {
        "id": "view-in-github",
        "colab_type": "text"
      },
      "source": [
        "<a href=\"https://colab.research.google.com/github/Parth-Ach2002/Image-Classification/blob/main/final.ipynb\" target=\"_parent\"><img src=\"https://colab.research.google.com/assets/colab-badge.svg\" alt=\"Open In Colab\"/></a>"
      ]
    },
    {
      "cell_type": "markdown",
      "source": [
        "**Importing the necessary libraries**"
      ],
      "metadata": {
        "id": "Phk2LdADSdxS"
      }
    },
    {
      "cell_type": "code",
      "source": [
        "import tensorflow as tf\n",
        "import keras\n",
        "from tensorflow.keras.layers import Input, Lambda, Dense, Flatten,Dropout\n",
        "from tensorflow.keras.models import Model\n",
        "from tensorflow.keras import layers, models\n",
        "from tensorflow.keras.preprocessing import image\n",
        "from tensorflow.keras.preprocessing.image import ImageDataGenerator\n",
        "from tensorflow.keras.models import Sequential\n",
        "import numpy as np\n",
        "import pandas as pd\n",
        "import os\n",
        "import cv2\n",
        "import matplotlib.pyplot as plt"
      ],
      "metadata": {
        "id": "Cvw4YTAFSkuw"
      },
      "execution_count": 2,
      "outputs": []
    },
    {
      "cell_type": "markdown",
      "source": [
        "**Connecting google drive with our file in order to access the contents of the dataset**"
      ],
      "metadata": {
        "id": "8FkIDfYBSryD"
      }
    },
    {
      "cell_type": "code",
      "source": [
        "# Mounting the Data from Drive\n",
        "from google.colab import drive\n",
        "drive.mount('/content/drive')"
      ],
      "metadata": {
        "id": "npNpjk2KTJtK",
        "outputId": "79054d1b-a721-4029-fc09-09bb2e0c11db",
        "colab": {
          "base_uri": "https://localhost:8080/"
        }
      },
      "execution_count": 7,
      "outputs": [
        {
          "output_type": "stream",
          "name": "stdout",
          "text": [
            "Mounted at /content/drive\n"
          ]
        }
      ]
    },
    {
      "cell_type": "markdown",
      "source": [
        "**Setting the path for all the datasets**"
      ],
      "metadata": {
        "id": "3VEG0JMgNa98"
      }
    },
    {
      "cell_type": "code",
      "source": [
        "# Set path for all three datasets\n",
        "train_path=\"/content/drive/MyDrive/Image Classification Dataset /Train\"\n",
        "test_path=\"/content/drive/MyDrive/Image Classification Dataset /Test\"\n",
        "val_path=\"/content/drive/MyDrive/Image Classification Dataset /Validation\""
      ],
      "metadata": {
        "id": "ZRGbgodUNhoI"
      },
      "execution_count": 11,
      "outputs": []
    },
    {
      "cell_type": "markdown",
      "source": [
        "**Generating image data along with few transformations**"
      ],
      "metadata": {
        "id": "Fw1h8Jt3OFJa"
      }
    },
    {
      "cell_type": "code",
      "source": [
        "train_datagen = ImageDataGenerator(rescale = 1./255, rotation_range=30, width_shift_range=10.0, height_shift_range=10.0, shear_range=10,\n",
        "                                   zoom_range=0.1,\n",
        "                                   vertical_flip=True)\n",
        "test_datagen = ImageDataGenerator(rescale = 1./255)\n",
        "val_datagen = ImageDataGenerator(rescale = 1./255)\n"
      ],
      "metadata": {
        "id": "E0R5oy5_OtLT"
      },
      "execution_count": 12,
      "outputs": []
    },
    {
      "cell_type": "code",
      "source": [
        "training_set = train_datagen.flow_from_directory(train_path,\n",
        "                                                 target_size = (224, 224),\n",
        "                                                 batch_size = 16\n",
        "                                                )\n",
        "test_set = test_datagen.flow_from_directory(test_path,\n",
        "                                            target_size = (224, 224),\n",
        "                                            batch_size = 16\n",
        "                                            )\n",
        "\n",
        "val_set = val_datagen.flow_from_directory(val_path,\n",
        "                                            target_size = (224, 224),\n",
        "                                            batch_size = 16\n",
        "                                            )"
      ],
      "metadata": {
        "id": "hfX3noJLPhIG",
        "outputId": "a7919b6c-3866-41fa-d39d-4996355ab1fe",
        "colab": {
          "base_uri": "https://localhost:8080/"
        }
      },
      "execution_count": 13,
      "outputs": [
        {
          "output_type": "stream",
          "name": "stdout",
          "text": [
            "Found 210 images belonging to 3 classes.\n",
            "Found 60 images belonging to 3 classes.\n",
            "Found 30 images belonging to 3 classes.\n"
          ]
        }
      ]
    }
  ]
}
{
  "nbformat": 4,
  "nbformat_minor": 0,
  "metadata": {
    "colab": {
      "provenance": [],
      "include_colab_link": true
    },
    "kernelspec": {
      "name": "python3",
      "display_name": "Python 3"
    },
    "language_info": {
      "name": "python"
    }
  },
  "cells": [
    {
      "cell_type": "markdown",
      "metadata": {
        "id": "view-in-github",
        "colab_type": "text"
      },
      "source": [
        "<a href=\"https://colab.research.google.com/github/Parth-Ach2002/Image-Classification/blob/main/final.ipynb\" target=\"_parent\"><img src=\"https://colab.research.google.com/assets/colab-badge.svg\" alt=\"Open In Colab\"/></a>"
      ]
    },
    {
      "cell_type": "markdown",
      "source": [
        "**Importing the necessary libraries**"
      ],
      "metadata": {
        "id": "Phk2LdADSdxS"
      }
    },
    {
      "cell_type": "code",
      "source": [
        "import tensorflow as tf\n",
        "import keras\n",
        "from tensorflow.keras.layers import Input, Lambda, Dense, Flatten,Dropout\n",
        "from tensorflow.keras.models import Model\n",
        "from tensorflow.keras import layers, models\n",
        "from tensorflow.keras.preprocessing import image\n",
        "from tensorflow.keras.preprocessing.image import ImageDataGenerator\n",
        "from tensorflow.keras.models import Sequential\n",
        "import numpy as np\n",
        "import pandas as pd\n",
        "import os\n",
        "import cv2\n",
        "import matplotlib.pyplot as plt"
      ],
      "metadata": {
        "id": "Cvw4YTAFSkuw"
      },
      "execution_count": 1,
      "outputs": []
    },
    {
      "cell_type": "markdown",
      "source": [
        "**Connecting google drive with our file in order to access the contents of the dataset**"
      ],
      "metadata": {
        "id": "8FkIDfYBSryD"
      }
    },
    {
      "cell_type": "code",
      "source": [
        "# Mounting the Data from Drive\n",
        "from google.colab import drive\n",
        "drive.mount('/content/drive')"
      ],
      "metadata": {
        "id": "npNpjk2KTJtK",
        "outputId": "e3d8bdef-36b6-47fb-b462-6daeb6cbe296",
        "colab": {
          "base_uri": "https://localhost:8080/"
        }
      },
      "execution_count": 2,
      "outputs": [
        {
          "output_type": "stream",
          "name": "stdout",
          "text": [
            "Mounted at /content/drive\n"
          ]
        }
      ]
    },
    {
      "cell_type": "markdown",
      "source": [
        "**Setting the path for all the datasets**"
      ],
      "metadata": {
        "id": "3VEG0JMgNa98"
      }
    },
    {
      "cell_type": "code",
      "source": [
        "# Set path for all three datasets\n",
        "train_path=\"/content/drive/MyDrive/Image Classification Dataset/Train\"\n",
        "test_path=\"/content/drive/MyDrive/Image Classification Dataset/Test\"\n",
        "val_path=\"/content/drive/MyDrive/Image Classification Dataset/Validation\""
      ],
      "metadata": {
        "id": "ZRGbgodUNhoI"
      },
      "execution_count": 3,
      "outputs": []
    },
    {
      "cell_type": "markdown",
      "source": [
        "**Generating image data along with few transformations**"
      ],
      "metadata": {
        "id": "Fw1h8Jt3OFJa"
      }
    },
    {
      "cell_type": "code",
      "source": [
        "train_datagen = ImageDataGenerator(rescale = 1./255, rotation_range=30, width_shift_range=10.0, height_shift_range=10.0, shear_range=10,\n",
        "                                   zoom_range=0.1,\n",
        "                                   vertical_flip=True)\n",
        "test_datagen = ImageDataGenerator(rescale = 1./255)\n",
        "val_datagen = ImageDataGenerator(rescale = 1./255)"
      ],
      "metadata": {
        "id": "E0R5oy5_OtLT"
      },
      "execution_count": 4,
      "outputs": []
    },
    {
      "cell_type": "code",
      "source": [
        "training_set = train_datagen.flow_from_directory(train_path,\n",
        "                                                 target_size = (224, 224),\n",
        "                                                 batch_size = 16\n",
        "                                                )\n",
        "test_set = test_datagen.flow_from_directory(test_path,\n",
        "                                            target_size = (224, 224),\n",
        "                                            batch_size = 16\n",
        "                                            )\n",
        "\n",
        "val_set = val_datagen.flow_from_directory(val_path,\n",
        "                                            target_size = (224, 224),\n",
        "                                            batch_size = 16\n",
        "\n",
        "                                          )"
      ],
      "metadata": {
        "colab": {
          "base_uri": "https://localhost:8080/"
        },
        "id": "hfX3noJLPhIG",
        "outputId": "4d937fbc-1f36-489f-8f45-8aee48e99e86"
      },
      "execution_count": 5,
      "outputs": [
        {
          "output_type": "stream",
          "name": "stdout",
          "text": [
            "Found 210 images belonging to 3 classes.\n",
            "Found 60 images belonging to 3 classes.\n",
            "Found 30 images belonging to 3 classes.\n"
          ]
        }
      ]
    },
    {
      "cell_type": "markdown",
      "source": [
        "**Printing the class indices**"
      ],
      "metadata": {
        "id": "65S-39NTQ2ZG"
      }
    },
    {
      "cell_type": "code",
      "source": [
        "training_set.class_indices"
      ],
      "metadata": {
        "colab": {
          "base_uri": "https://localhost:8080/"
        },
        "id": "7nCDPdxwQ6-U",
        "outputId": "330e717d-63d1-4949-ecb7-cb83c863311d"
      },
      "execution_count": 6,
      "outputs": [
        {
          "output_type": "execute_result",
          "data": {
            "text/plain": [
              "{'No Parking': 0, 'One Way': 1, 'Zebra Crossing': 2}"
            ]
          },
          "metadata": {},
          "execution_count": 6
        }
      ]
    },
    {
      "cell_type": "markdown",
      "source": [
        "**Installing Keras Tuner for hyperparameter optimization**"
      ],
      "metadata": {
        "id": "umWwqWPsRfNk"
      }
    },
    {
      "cell_type": "code",
      "source": [
        "pip install keras-tuner"
      ],
      "metadata": {
        "id": "BWzQdVhDRoiL",
        "outputId": "d47481c7-3514-4722-ef91-b5c43508f0db",
        "colab": {
          "base_uri": "https://localhost:8080/"
        }
      },
      "execution_count": 7,
      "outputs": [
        {
          "output_type": "stream",
          "name": "stdout",
          "text": [
            "Collecting keras-tuner\n",
            "  Downloading keras_tuner-1.3.5-py3-none-any.whl (176 kB)\n",
            "\u001b[2K     \u001b[90m━━━━━━━━━━━━━━━━━━━━━━━━━━━━━━━━━━━━━━━\u001b[0m \u001b[32m176.1/176.1 kB\u001b[0m \u001b[31m2.0 MB/s\u001b[0m eta \u001b[36m0:00:00\u001b[0m\n",
            "\u001b[?25hRequirement already satisfied: packaging in /usr/local/lib/python3.10/dist-packages (from keras-tuner) (23.1)\n",
            "Requirement already satisfied: requests in /usr/local/lib/python3.10/dist-packages (from keras-tuner) (2.31.0)\n",
            "Collecting kt-legacy (from keras-tuner)\n",
            "  Downloading kt_legacy-1.0.5-py3-none-any.whl (9.6 kB)\n",
            "Requirement already satisfied: charset-normalizer<4,>=2 in /usr/local/lib/python3.10/dist-packages (from requests->keras-tuner) (3.2.0)\n",
            "Requirement already satisfied: idna<4,>=2.5 in /usr/local/lib/python3.10/dist-packages (from requests->keras-tuner) (3.4)\n",
            "Requirement already satisfied: urllib3<3,>=1.21.1 in /usr/local/lib/python3.10/dist-packages (from requests->keras-tuner) (2.0.4)\n",
            "Requirement already satisfied: certifi>=2017.4.17 in /usr/local/lib/python3.10/dist-packages (from requests->keras-tuner) (2023.7.22)\n",
            "Installing collected packages: kt-legacy, keras-tuner\n",
            "Successfully installed keras-tuner-1.3.5 kt-legacy-1.0.5\n"
          ]
        }
      ]
    },
    {
      "cell_type": "markdown",
      "source": [
        "**Creating the model architecture**"
      ],
      "metadata": {
        "id": "kc87zpWiSQ64"
      }
    },
    {
      "cell_type": "code",
      "source": [
        "def build_model(hp):\n",
        "    model = models.Sequential()\n",
        "    model.add(layers.Conv2D(hp.Int('conv1_units', min_value=32, max_value=256, step=32), (3, 3), activation='relu', input_shape=(224, 224, 3)))\n",
        "    model.add(layers.MaxPooling2D((2, 2)))\n",
        "    model.add(layers.Conv2D(hp.Int('conv2_units', min_value=32, max_value=128, step=32), (3, 3), activation='relu'))\n",
        "    model.add(layers.MaxPooling2D((2, 2)))\n",
        "    model.add(layers.Dropout(hp.Float('dropout1', min_value=0.2, max_value=0.5, step=0.1)))\n",
        "    model.add(layers.Conv2D(hp.Int('conv3_units', min_value=16, max_value=64, step=16), (3, 3), activation='relu'))\n",
        "    model.add(layers.MaxPooling2D((2, 2)))\n",
        "    model.add(layers.Flatten())\n",
        "    model.add(layers.Dense(hp.Int('dense1_units', min_value=32, max_value=128, step=32), activation='relu'))\n",
        "    model.add(layers.Dropout(hp.Float('dropout2', min_value=0.2, max_value=0.5, step=0.1)))\n",
        "    model.add(layers.Dense(hp.Int('dense2_units', min_value=16, max_value=64, step=16), activation='relu'))\n",
        "    model.add(layers.Dropout(hp.Float('dropout3', min_value=0.2, max_value=0.5, step=0.1)))\n",
        "    model.add(layers.Dense(3, activation='softmax'))\n",
        "\n",
        "    model.compile(optimizer='adam',\n",
        "                  loss='categorical_crossentropy',\n",
        "                  metrics=['accuracy'])\n",
        "\n",
        "    return model"
      ],
      "metadata": {
        "id": "MEm0N6qfSXRk"
      },
      "execution_count": 8,
      "outputs": []
    },
    {
      "cell_type": "markdown",
      "source": [
        "We create a function for the model with \"hp\" as paramter. The model consists Three Convolutional layers with respective Max Pooling layers meaning the Maximum values of pixel after filtering are considered. The come the flattening layer where data is converted into 1-D array. We use softmax function to fetch the probability of all classes which sums upto 1."
      ],
      "metadata": {
        "id": "Y-Ejrw_BXWru"
      }
    },
    {
      "cell_type": "markdown",
      "source": [
        "The model is compiled using Adaptive movement estiamtion for escaping local minima. The loss function categorical crossentropy is used also the metrics used is accuracy."
      ],
      "metadata": {
        "id": "3XnDKs9veTnE"
      }
    },
    {
      "cell_type": "code",
      "source": [
        "from kerastuner.tuners import RandomSearch"
      ],
      "metadata": {
        "colab": {
          "base_uri": "https://localhost:8080/"
        },
        "id": "AFx9LzWbfZDJ",
        "outputId": "4c50767b-e460-438f-cc6c-6ad11d541b03"
      },
      "execution_count": 9,
      "outputs": [
        {
          "output_type": "stream",
          "name": "stderr",
          "text": [
            "<ipython-input-9-94471a811b41>:1: DeprecationWarning: `import kerastuner` is deprecated, please use `import keras_tuner`.\n",
            "  from kerastuner.tuners import RandomSearch\n"
          ]
        }
      ]
    },
    {
      "cell_type": "markdown",
      "source": [
        "Importing Random search from the package kerastuner.tuners"
      ],
      "metadata": {
        "id": "RNfyCQ6Ffe-D"
      }
    },
    {
      "cell_type": "markdown",
      "source": [
        "**Perform Hyperparameter tuning**"
      ],
      "metadata": {
        "id": "8LhdRpfAgWlw"
      }
    },
    {
      "cell_type": "code",
      "source": [
        "tuner = RandomSearch(\n",
        "    build_model,\n",
        "    objective='val_accuracy',\n",
        "    max_trials=8,\n",
        "    directory='tuning_directory',\n",
        "    project_name='my_model'\n",
        ")"
      ],
      "metadata": {
        "id": "q-Lce-KofmVA"
      },
      "execution_count": 11,
      "outputs": []
    },
    {
      "cell_type": "code",
      "source": [
        "tuner.search(training_set,\n",
        "             validation_data=val_set,\n",
        "             epochs=30,\n",
        "             batch_size=16)"
      ],
      "metadata": {
        "id": "Hsu3hjAM4SAH",
        "outputId": "5eb8b092-3fb4-45e5-877f-b1f88f56187d",
        "colab": {
          "base_uri": "https://localhost:8080/"
        }
      },
      "execution_count": 12,
      "outputs": [
        {
          "output_type": "stream",
          "name": "stdout",
          "text": [
            "Trial 8 Complete [01h 05m 38s]\n",
            "val_accuracy: 0.800000011920929\n",
            "\n",
            "Best val_accuracy So Far: 0.9666666388511658\n",
            "Total elapsed time: 04h 04m 31s\n"
          ]
        }
      ]
    },
    {
      "cell_type": "code",
      "source": [
        "best_hp = tuner.get_best_hyperparameters()[0]\n",
        "final_model = build_model(best_hp)"
      ],
      "metadata": {
        "id": "qG0eciIepa7-"
      },
      "execution_count": 14,
      "outputs": []
    },
    {
      "cell_type": "code",
      "source": [
        "history = final_model.fit(training_set,\n",
        "                          validation_data=val_set,\n",
        "                          epochs=30,\n",
        "                          batch_size=16)"
      ],
      "metadata": {
        "id": "4PkFCFRFxIZ8",
        "outputId": "dd50e02f-b031-49d8-8621-a178a2ac587a",
        "colab": {
          "base_uri": "https://localhost:8080/"
        }
      },
      "execution_count": 16,
      "outputs": [
        {
          "output_type": "stream",
          "name": "stdout",
          "text": [
            "Epoch 1/30\n",
            "14/14 [==============================] - 62s 4s/step - loss: 1.0015 - accuracy: 0.4857 - val_loss: 1.0309 - val_accuracy: 0.4000\n",
            "Epoch 2/30\n",
            "14/14 [==============================] - 61s 4s/step - loss: 0.9172 - accuracy: 0.5524 - val_loss: 0.8951 - val_accuracy: 0.6333\n",
            "Epoch 3/30\n",
            "14/14 [==============================] - 62s 4s/step - loss: 0.7627 - accuracy: 0.6571 - val_loss: 0.8750 - val_accuracy: 0.5667\n",
            "Epoch 4/30\n",
            "14/14 [==============================] - 60s 4s/step - loss: 0.8394 - accuracy: 0.6381 - val_loss: 0.8693 - val_accuracy: 0.6333\n",
            "Epoch 5/30\n",
            "14/14 [==============================] - 70s 5s/step - loss: 0.7528 - accuracy: 0.6619 - val_loss: 0.7250 - val_accuracy: 0.6000\n",
            "Epoch 6/30\n",
            "14/14 [==============================] - 60s 4s/step - loss: 0.6678 - accuracy: 0.6571 - val_loss: 0.7296 - val_accuracy: 0.5333\n",
            "Epoch 7/30\n",
            "14/14 [==============================] - 61s 5s/step - loss: 0.6425 - accuracy: 0.6476 - val_loss: 0.6784 - val_accuracy: 0.7000\n",
            "Epoch 8/30\n",
            "14/14 [==============================] - 59s 4s/step - loss: 0.5755 - accuracy: 0.7000 - val_loss: 0.6500 - val_accuracy: 0.6667\n",
            "Epoch 9/30\n",
            "14/14 [==============================] - 58s 4s/step - loss: 0.5829 - accuracy: 0.7238 - val_loss: 0.7131 - val_accuracy: 0.5333\n",
            "Epoch 10/30\n",
            "14/14 [==============================] - 63s 5s/step - loss: 0.5316 - accuracy: 0.7762 - val_loss: 0.5964 - val_accuracy: 0.7333\n",
            "Epoch 11/30\n",
            "14/14 [==============================] - 60s 4s/step - loss: 0.5181 - accuracy: 0.7524 - val_loss: 0.5057 - val_accuracy: 0.7333\n",
            "Epoch 12/30\n",
            "14/14 [==============================] - 60s 5s/step - loss: 0.4034 - accuracy: 0.8190 - val_loss: 0.5246 - val_accuracy: 0.6333\n",
            "Epoch 13/30\n",
            "14/14 [==============================] - 60s 4s/step - loss: 0.4319 - accuracy: 0.7714 - val_loss: 0.5167 - val_accuracy: 0.6000\n",
            "Epoch 14/30\n",
            "14/14 [==============================] - 61s 4s/step - loss: 0.4337 - accuracy: 0.7857 - val_loss: 0.4319 - val_accuracy: 0.7333\n",
            "Epoch 15/30\n",
            "14/14 [==============================] - 61s 4s/step - loss: 0.4027 - accuracy: 0.8095 - val_loss: 0.3905 - val_accuracy: 0.7333\n",
            "Epoch 16/30\n",
            "14/14 [==============================] - 62s 4s/step - loss: 0.4228 - accuracy: 0.8143 - val_loss: 0.4509 - val_accuracy: 0.7000\n",
            "Epoch 17/30\n",
            "14/14 [==============================] - 60s 4s/step - loss: 0.3367 - accuracy: 0.8429 - val_loss: 0.5356 - val_accuracy: 0.7000\n",
            "Epoch 18/30\n",
            "14/14 [==============================] - 61s 4s/step - loss: 0.4615 - accuracy: 0.8048 - val_loss: 0.4699 - val_accuracy: 0.7000\n",
            "Epoch 19/30\n",
            "14/14 [==============================] - 60s 4s/step - loss: 0.3227 - accuracy: 0.8857 - val_loss: 0.3752 - val_accuracy: 0.8333\n",
            "Epoch 20/30\n",
            "14/14 [==============================] - 60s 4s/step - loss: 0.2853 - accuracy: 0.8762 - val_loss: 0.3392 - val_accuracy: 0.8333\n",
            "Epoch 21/30\n",
            "14/14 [==============================] - 59s 4s/step - loss: 0.3375 - accuracy: 0.8762 - val_loss: 0.3729 - val_accuracy: 0.8000\n",
            "Epoch 22/30\n",
            "14/14 [==============================] - 60s 4s/step - loss: 0.3362 - accuracy: 0.8381 - val_loss: 0.3626 - val_accuracy: 0.8667\n",
            "Epoch 23/30\n",
            "14/14 [==============================] - 59s 4s/step - loss: 0.3231 - accuracy: 0.8714 - val_loss: 0.3565 - val_accuracy: 0.8667\n",
            "Epoch 24/30\n",
            "14/14 [==============================] - 60s 5s/step - loss: 0.2787 - accuracy: 0.9095 - val_loss: 0.3408 - val_accuracy: 0.8000\n",
            "Epoch 25/30\n",
            "14/14 [==============================] - 59s 4s/step - loss: 0.1807 - accuracy: 0.9095 - val_loss: 0.4251 - val_accuracy: 0.8000\n",
            "Epoch 26/30\n",
            "14/14 [==============================] - 60s 4s/step - loss: 0.1670 - accuracy: 0.9190 - val_loss: 0.3043 - val_accuracy: 0.8667\n",
            "Epoch 27/30\n",
            "14/14 [==============================] - 60s 4s/step - loss: 0.2722 - accuracy: 0.9048 - val_loss: 0.3493 - val_accuracy: 0.8333\n",
            "Epoch 28/30\n",
            "14/14 [==============================] - 60s 4s/step - loss: 0.2372 - accuracy: 0.9333 - val_loss: 0.3837 - val_accuracy: 0.8000\n",
            "Epoch 29/30\n",
            "14/14 [==============================] - 60s 4s/step - loss: 0.1697 - accuracy: 0.9476 - val_loss: 0.5096 - val_accuracy: 0.7667\n",
            "Epoch 30/30\n",
            "14/14 [==============================] - 59s 4s/step - loss: 0.2074 - accuracy: 0.9286 - val_loss: 0.2559 - val_accuracy: 0.9000\n"
          ]
        }
      ]
    },
    {
      "cell_type": "code",
      "source": [
        "final_model.save('model.h5')"
      ],
      "metadata": {
        "id": "ehfsDuvr5qJL",
        "outputId": "92ec7f07-d730-47fa-f4d4-6de07e8cfae6",
        "colab": {
          "base_uri": "https://localhost:8080/"
        }
      },
      "execution_count": 17,
      "outputs": [
        {
          "output_type": "stream",
          "name": "stderr",
          "text": [
            "/usr/local/lib/python3.10/dist-packages/keras/src/engine/training.py:3000: UserWarning: You are saving your model as an HDF5 file via `model.save()`. This file format is considered legacy. We recommend using instead the native Keras format, e.g. `model.save('my_model.keras')`.\n",
            "  saving_api.save_model(\n"
          ]
        }
      ]
    },
    {
      "cell_type": "code",
      "source": [
        "(loss, accuracy) = final_model.evaluate(test_set)\n",
        "print(loss)\n",
        "print(accuracy)"
      ],
      "metadata": {
        "id": "RkAhKox35wdW",
        "outputId": "88f805bb-d4e7-4149-b466-7206e51dbf42",
        "colab": {
          "base_uri": "https://localhost:8080/"
        }
      },
      "execution_count": 18,
      "outputs": [
        {
          "output_type": "stream",
          "name": "stdout",
          "text": [
            "4/4 [==============================] - 13s 4s/step - loss: 0.0404 - accuracy: 1.0000\n",
            "0.04040173813700676\n",
            "1.0\n"
          ]
        }
      ]
    }
  ]
}